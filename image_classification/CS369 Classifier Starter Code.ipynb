{
 "cells": [
  {
   "cell_type": "markdown",
   "id": "01496206",
   "metadata": {},
   "source": [
    "# CS369 Image Classifier\n",
    "## Starter Code\n",
    "\n",
    "This notebook is intended to be a starting point for writing your image classifier.\n",
    "\n",
    "Start by setting the `root_path` variable to point to the dataset on your computer (a relative path is ok). You can verify that you're loading the data correctly by printing out the list of label names.\n",
    "\n",
    "As is, this code loads each image and converts the image into a 1D luminance histogram. This is a very simple feature vector, and you are encouraged to experiment with more complicated ones to improve the accuracy of your predictions.\n",
    "\n",
    "The labels, filenames, and histogram feature vectors are stored in a pandas data frame in case you want to save and load them instead of re-computing them each time.\n",
    "\n",
    "The last part of the code trains a simple SVM classifier and computes the accuracy of the trained model on the same data it was just trained on. You're encouraged to segment the data into Train and Validation subsets, which will allow you to verify that your model isn't over-fitting to the training data.\n",
    "\n",
    "You will need to add several components to the code, listed below. We will talk about these in class, and you can also look up the documentation for the suggested functions online.\n",
    "\n",
    "A rubric describing how the project will be graded will be provided separately."
   ]
  },
  {
   "cell_type": "code",
   "execution_count": 16,
   "id": "7d95c89d",
   "metadata": {},
   "outputs": [],
   "source": [
    "import numpy as np\n",
    "import pandas as pd\n",
    "from PIL import Image\n",
    "from glob import glob\n",
    "\n",
    "from skimage.exposure import histogram\n",
    "from skimage.color import rgb2gray\n",
    "\n",
    "from sklearn.pipeline import make_pipeline\n",
    "from sklearn.preprocessing import StandardScaler\n",
    "from sklearn.svm import SVC"
   ]
  },
  {
   "cell_type": "code",
   "execution_count": 29,
   "id": "2ef542d3",
   "metadata": {},
   "outputs": [],
   "source": [
    "# Path to Dataset\n",
    "# root_path = './Intel\\ Training\\ Dataset/'\n",
    "root_path = './Intel Training Dataset/'\n",
    "\n",
    "# split into subfolders based on class label\n",
    "subfolders = sorted(glob(root_path + '*'))\n",
    "label_names = [p.split('/')[-1] for p in subfolders]\n",
    "# print(label_names)"
   ]
  },
  {
   "cell_type": "code",
   "execution_count": 30,
   "id": "900a15e0",
   "metadata": {},
   "outputs": [],
   "source": [
    "# create a list to organize labels, filenames, and feature vectors\n",
    "data = []\n",
    "\n",
    "for i, (label, subfolder) in enumerate(zip(label_names, subfolders)):\n",
    "    # get list of file paths for each subfolder\n",
    "    file_paths = sorted(glob(subfolder + '/*.jpg'))\n",
    "    for f in file_paths:\n",
    "        # read image\n",
    "        img = np.array(Image.open(f))\n",
    "        fname = f.split('/')[-1].split('_')[-1]\n",
    "        # convert to luminance histogram (feature vector)\n",
    "        img_hist, _ = histogram(rgb2gray(img), nbins=256, \n",
    "                                  source_range='dtype', \n",
    "                                  normalize=False)\n",
    "        # append to data list with labels\n",
    "        data.append({'labelname':label, \n",
    "                     'filename':fname, \n",
    "                     'labelnum':i, \n",
    "                     'lumhist':img_hist})\n",
    "\n",
    "# convert to dataframe for storage\n",
    "# can also export to a file here\n",
    "df = pd.DataFrame(data=data)"
   ]
  },
  {
   "cell_type": "code",
   "execution_count": 31,
   "id": "c1a3eaaf",
   "metadata": {},
   "outputs": [],
   "source": [
    "# re-load data\n",
    "label_array = df['labelnum'] # vector\n",
    "feature_matrix = np.vstack(df['lumhist']) #2D Array"
   ]
  },
  {
   "cell_type": "code",
   "execution_count": 32,
   "id": "543f7127",
   "metadata": {},
   "outputs": [
    {
     "name": "stdout",
     "output_type": "stream",
     "text": [
      "Total Accuracy: 0.4985743380855397\n"
     ]
    }
   ],
   "source": [
    "# train a simple classifier\n",
    "clf = make_pipeline(StandardScaler(), SVC(gamma='auto'))\n",
    "clf.fit(feature_matrix, label_array)\n",
    "\n",
    "# report overall accuracy on the training data\n",
    "print('Total Accuracy: {}'.format(clf.score(feature_matrix, label_array)))"
   ]
  },
  {
   "cell_type": "code",
   "execution_count": 12,
   "id": "bde5aef1",
   "metadata": {},
   "outputs": [],
   "source": [
    "# Project To Do's\n",
    "# 0. split the data into Train and Validation sets\n",
    "# 1. use sklearn.metrics.confusion_matrix to get more detailed results\n",
    "# 2. use sklearn.model_selection.GridSearchCV to try different params\n",
    "# 3. try different feature vectors and classifiers to improve accuracy\n",
    "# 4. use python's time.time() function to measure compute time costs"
   ]
  },
  {
   "cell_type": "code",
   "execution_count": null,
   "id": "9064fd69-1cb5-487f-af68-2994b08df95c",
   "metadata": {},
   "outputs": [],
   "source": []
  }
 ],
 "metadata": {
  "kernelspec": {
   "display_name": "Python 3 (ipykernel)",
   "language": "python",
   "name": "python3"
  },
  "language_info": {
   "codemirror_mode": {
    "name": "ipython",
    "version": 3
   },
   "file_extension": ".py",
   "mimetype": "text/x-python",
   "name": "python",
   "nbconvert_exporter": "python",
   "pygments_lexer": "ipython3",
   "version": "3.11.6"
  }
 },
 "nbformat": 4,
 "nbformat_minor": 5
}
