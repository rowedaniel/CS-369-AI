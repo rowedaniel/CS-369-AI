{
 "cells": [
  {
   "cell_type": "code",
   "execution_count": null,
   "id": "e8f434c4-7c94-45e3-a1fa-6fb153c1b45c",
   "metadata": {},
   "outputs": [],
   "source": [
    "import numpy as np\n",
    "import matplotlib.pyplot as plt\n",
    "import seaborn as sn\n",
    "import pandas as pd\n",
    "\n",
    "from random import sample, choice\n",
    "from glob import glob\n",
    "\n",
    "# import cv2\n",
    "from PIL import Image\n",
    "\n",
    "from sklearn.pipeline import make_pipeline\n",
    "from sklearn.preprocessing import StandardScaler\n",
    "from sklearn.svm import SVC\n",
    "from sklearn.neighbors import KNeighborsClassifier\n",
    "from sklearn.model_selection import train_test_split, GridSearchCV\n",
    "from sklearn.metrics import confusion_matrix, classification_report\n",
    "from sklearn.decomposition import PCA\n",
    "from skimage.feature import hog\n",
    "from skimage.color import rgb2gray\n"
   ]
  },
  {
   "cell_type": "code",
   "execution_count": null,
   "id": "91b95c80",
   "metadata": {},
   "outputs": [],
   "source": [
    "# grab filepaths\n",
    "root_path = \"./Intel Training Dataset/\"\n",
    "\n",
    "# split into subfolders based on class label\n",
    "subfolders = sorted(glob(root_path + \"*\"))\n",
    "label_names = [p.split(\"/\")[-1] for p in subfolders]\n"
   ]
  },
  {
   "cell_type": "code",
   "execution_count": null,
   "id": "b864252b-3b3d-4980-ae84-b4c0299d860a",
   "metadata": {},
   "outputs": [],
   "source": [
    "# Get image data\n",
    "\n",
    "data = {\n",
    "    \"image_labels\": [],\n",
    "    \"image_filenames\": [],\n",
    "    \"feature_vectors\": [],\n",
    "}\n",
    "\n",
    "\n",
    "def build_feature_vector(img, grayscale=False):\n",
    "    feature_vector_1 = hog(\n",
    "        img,\n",
    "        orientations=10,\n",
    "        pixels_per_cell=(15, 15),\n",
    "        cells_per_block=(1, 1),\n",
    "        block_norm=\"L2\",\n",
    "        channel_axis= None if grayscale else -1,\n",
    "    )\n",
    "    if grayscale:\n",
    "        img_gray = img\n",
    "    else:\n",
    "        img_gray = rgb2gray(img)\n",
    "    feature_vector_2 = np.histogram(img_gray, bins=16, density=True)[0]\n",
    "    feature_vector = np.hstack((feature_vector_1, feature_vector_2))\n",
    "    return feature_vector\n",
    "\n",
    "\n",
    "for i, subfolder in enumerate(subfolders):\n",
    "    # get list of file paths for each subfolder\n",
    "    file_paths = sorted(glob(subfolder + \"/*.jpg\"))\n",
    "    for f in file_paths:\n",
    "        # TODO: switch to cv2 for speed(?)\n",
    "        # img = cv2.imread(f, 0)\n",
    "        \n",
    "        # TODO: decide on whether to resize image\n",
    "        # img_base = Image.open(f).resize((100, 100))\n",
    "        img_base = Image.open(f)\n",
    "        img_flipped = img_base.transpose(Image.TRANSPOSE)\n",
    "        img_gray = rgb2gray(img_base)\n",
    "        \n",
    "        # TODO: decide on whether or not to use grayscale images in dataset\n",
    "        for j,img in enumerate((img_base, img_flipped)):\n",
    "            # maybe resize image with img = img.resize((100,100))\n",
    "            feature_vector = build_feature_vector(img, grayscale=(j == 2))\n",
    "            data[\"feature_vectors\"].append(feature_vector)\n",
    "            data[\"image_filenames\"].append(f)\n",
    "            data[\"image_labels\"].append(i)\n"
   ]
  },
  {
   "cell_type": "code",
   "execution_count": null,
   "id": "fc004572",
   "metadata": {},
   "outputs": [],
   "source": [
    "# use principle componenet analysis to choose better features\n",
    "pca = PCA(n_components=50)\n",
    "X = np.array(data[\"feature_vectors\"])\n",
    "pca.fit(X)\n",
    "X = pca.transform(X)\n",
    "data[\"feature_vectors\"] = list(X)"
   ]
  },
  {
   "cell_type": "code",
   "execution_count": null,
   "id": "e907cf25",
   "metadata": {},
   "outputs": [],
   "source": [
    "# convert to dataframe for storage\n",
    "df = pd.DataFrame(data=data)\n",
    "\n",
    "# store it\n",
    "df.to_pickle(\"feature_backup.pkl\")\n"
   ]
  },
  {
   "cell_type": "code",
   "execution_count": null,
   "id": "fec2c922",
   "metadata": {},
   "outputs": [],
   "source": [
    "df = pd.read_pickle(\"feature_backup.pkl\")"
   ]
  },
  {
   "cell_type": "code",
   "execution_count": null,
   "id": "a464c708-e4c3-427d-b94f-a2957d388f66",
   "metadata": {},
   "outputs": [],
   "source": [
    "random_ix = choice(range(len(df[\"image_filenames\"])))\n",
    "img = Image.open(df[\"image_filenames\"][random_ix])\n",
    "# hog_img = df[\"hog_images\"][random_ix]\n",
    "\n",
    "fig, (ax1, ax2) = plt.subplots(1, 2, figsize=(8, 4), sharex=True, sharey=True)\n",
    "\n",
    "ax1.axis(\"off\")\n",
    "ax1.imshow(img, cmap=plt.cm.gray)\n",
    "ax1.set_title(\"Input image\")\n",
    "\n",
    "ax2.axis(\"off\")\n",
    "# ax2.imshow(hog_image, cmap=plt.cm.gray)\n",
    "# ax2.set_title(\"Histogram of Oriented Gradients\")\n",
    "plt.show()\n",
    "\n",
    "print(\"feature vector size:\", df[\"feature_vectors\"][random_ix].shape)\n"
   ]
  },
  {
   "cell_type": "code",
   "execution_count": null,
   "id": "0fd5e919",
   "metadata": {},
   "outputs": [],
   "source": [
    "# train/validation split\n",
    "feature_vectors = np.vstack(df[\"feature_vectors\"])\n",
    "labels = df[\"image_labels\"]\n",
    "\n",
    "X_train, X_test, y_train, y_test = train_test_split(\n",
    "    feature_vectors, labels, test_size=0.2, stratify=labels, random_state=0\n",
    ")\n",
    "print(X_train.shape, y_train.shape)"
   ]
  },
  {
   "cell_type": "code",
   "execution_count": null,
   "id": "0e23641f",
   "metadata": {},
   "outputs": [],
   "source": [
    "# train one model\n",
    "\n",
    "clf = make_pipeline(StandardScaler(), SVC(gamma='scale', kernel=\"rbf\", C=0.5))\n",
    "clf.fit(X_train, y_train)"
   ]
  },
  {
   "cell_type": "code",
   "execution_count": null,
   "id": "eefda072",
   "metadata": {},
   "outputs": [],
   "source": [
    "# report accuracy\n",
    "\n",
    "train_pred = clf.predict(X_train)\n",
    "test_pred = clf.predict(X_test)\n",
    "print(f\"Overall train accuracy:\")\n",
    "print(classification_report(y_train, train_pred))\n",
    "print(f\"Overall test accuracy:\")\n",
    "print(classification_report(y_test, test_pred))\n",
    "\n",
    "C = confusion_matrix(y_test, test_pred)\n",
    "sn.heatmap(C, annot=True, cmap=\"Blues\", xticklabels=label_names, yticklabels=label_names)"
   ]
  },
  {
   "cell_type": "code",
   "execution_count": null,
   "id": "11d43569",
   "metadata": {},
   "outputs": [],
   "source": []
  }
 ],
 "metadata": {
  "kernelspec": {
   "display_name": "Python 3.11.6 ('.venv': poetry)",
   "language": "python",
   "name": "python3"
  },
  "language_info": {
   "codemirror_mode": {
    "name": "ipython",
    "version": 3
   },
   "file_extension": ".py",
   "mimetype": "text/x-python",
   "name": "python",
   "nbconvert_exporter": "python",
   "pygments_lexer": "ipython3",
   "version": "3.11.6"
  },
  "vscode": {
   "interpreter": {
    "hash": "81e6f2adef2a5e1d5ced1040cf3fdfb2baa4a7bd70b935b2d6caba7994b1aa88"
   }
  }
 },
 "nbformat": 4,
 "nbformat_minor": 5
}
