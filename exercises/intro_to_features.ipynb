{
 "cells": [
  {
   "cell_type": "code",
   "execution_count": null,
   "id": "b976153b-f9b6-4b6b-890c-175eb4ff548a",
   "metadata": {},
   "outputs": [],
   "source": [
    "import numpy as np\n",
    "import matplotlib.pyplot as plt\n",
    "import seaborn as sn\n",
    "\n",
    "from random import sample, shuffle\n",
    "from skimage.feature import hog\n",
    "from sklearn.datasets import fetch_olivetti_faces\n",
    "from sklearn.neighbors import KNeighborsClassifier\n",
    "from sklearn.model_selection import train_test_split\n",
    "from sklearn.metrics import confusion_matrix"
   ]
  },
  {
   "cell_type": "code",
   "execution_count": null,
   "id": "1bff3c75-f97b-412c-a6d0-53dd3d8757aa",
   "metadata": {},
   "outputs": [],
   "source": [
    "# load labeled faces in wild dataset\n",
    "lfw_people = fetch_olivetti_faces()"
   ]
  },
  {
   "cell_type": "code",
   "execution_count": null,
   "id": "61ea761c-3588-4c73-a381-393a18720011",
   "metadata": {},
   "outputs": [],
   "source": [
    "num_classes = 20\n",
    "\n",
    "# create mask for samples\n",
    "m = lfw_people.target < num_classes"
   ]
  },
  {
   "cell_type": "code",
   "execution_count": null,
   "id": "e06cdc6c-f060-4e83-a7b8-ba1fe7b12462",
   "metadata": {},
   "outputs": [],
   "source": [
    "labels = lfw_people.target[m]\n",
    "images = lfw_people.images[m, ...]\n",
    "num_images = len(labels)"
   ]
  },
  {
   "cell_type": "code",
   "execution_count": null,
   "id": "07b51ee5-8f63-49f0-bcf2-2487c7ccd738",
   "metadata": {},
   "outputs": [],
   "source": [
    "# choose a random subset of images\n",
    "subcount = 5\n",
    "ex_ixs = sorted(sample(range(num_images), k=subcount))"
   ]
  },
  {
   "cell_type": "code",
   "execution_count": null,
   "id": "062dbaee-953c-4f03-86c2-397098b0631f",
   "metadata": {},
   "outputs": [],
   "source": [
    "fig, ax = plt.subplots(nrows=1, ncols=subcount)\n",
    "for ax_no, image_no in enumerate(ex_ixs):\n",
    "    ax[ax_no].imshow(images[image_no], cmap='gray')\n",
    "    ax[ax_no].axis(\"off\")\n",
    "    ax[ax_no].set_title(f\"Img {image_no}\\n Label {labels[image_no]}\")"
   ]
  },
  {
   "cell_type": "code",
   "execution_count": null,
   "id": "ac8172ce-a246-4735-8e6a-3ef1a2200486",
   "metadata": {},
   "outputs": [],
   "source": [
    "# extract features from raw data\n",
    "\n",
    "# eg 1: luminance hist\n",
    "lumhist_data = []\n",
    "num_bins = 25\n",
    "\n",
    "for i in range(num_images):\n",
    "    # normalized histogram, with input data values ranging 0-1\n",
    "    hist, _ = np.histogram(images[i], bins=num_bins, range=(0,1), density=True)\n",
    "    lumhist_data.append(hist)\n",
    "lumhist_data = np.array(lumhist_data)\n",
    "\n",
    "fig, ax = plt.subplots(nrows=1, ncols=subcount, figsize=(13,3))\n",
    "for ax_no, image_no in enumerate(ex_ixs):\n",
    "    hist = lumhist_data[image_no]\n",
    "    ax[ax_no].bar(range(num_bins), height=hist)\n",
    "    ax[ax_no].set_ylim([0,5])\n",
    "    ax[ax_no].set_title(f\"Img {image_no}\\n Label {labels[image_no]}\")"
   ]
  },
  {
   "cell_type": "code",
   "execution_count": null,
   "id": "9b99e662-b80f-45f4-bd58-6222d71c54d7",
   "metadata": {},
   "outputs": [],
   "source": [
    "# X indicates data, and y indicates labels\n",
    "# reserve 20% of data for test set. \n",
    "# stratify=labels ensures labels should be either completely in train or completely in test\n",
    "X_train, X_test, y_train, y_test = train_test_split(lumhist_data,labels, test_size = 0.2, stratify = labels, random_state=0)\n",
    "print(\"train labels:\", set(y_train))\n",
    "print(\"test labels :\", set(y_test))\n",
    "\n",
    "# train KNN classifier\n",
    "neigh = KNeighborsClassifier(n_neighbors=3)\n",
    "neigh.fit(X_train, y_train)\n",
    "\n",
    "train_accuracy = neigh.score(X_train, y_train)\n",
    "test_accuracy = neigh.score(X_test, y_test)\n",
    "print(f\"Overall train accuracy: {train_accuracy}\")\n",
    "print(f\"Overall test accuracy: {test_accuracy}\")"
   ]
  },
  {
   "cell_type": "code",
   "execution_count": null,
   "id": "bb7897f0-4442-49a0-88e8-7349aafa6a71",
   "metadata": {},
   "outputs": [],
   "source": [
    "y_pred = neigh.predict(X_test)\n",
    "\n",
    "C = confusion_matrix(y_test, y_pred)\n",
    "sn.heatmap(C, annot=True, cmap=\"Blues\")"
   ]
  },
  {
   "cell_type": "code",
   "execution_count": null,
   "id": "388bea01-e846-43a3-beef-9d0ca276e2ec",
   "metadata": {},
   "outputs": [],
   "source": []
  }
 ],
 "metadata": {
  "kernelspec": {
   "display_name": "Python 3 (ipykernel)",
   "language": "python",
   "name": "python3"
  },
  "language_info": {
   "codemirror_mode": {
    "name": "ipython",
    "version": 3
   },
   "file_extension": ".py",
   "mimetype": "text/x-python",
   "name": "python",
   "nbconvert_exporter": "python",
   "pygments_lexer": "ipython3",
   "version": "3.11.6"
  }
 },
 "nbformat": 4,
 "nbformat_minor": 5
}
