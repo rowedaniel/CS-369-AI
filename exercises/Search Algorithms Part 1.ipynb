{
 "cells": [
  {
   "cell_type": "code",
   "execution_count": 94,
   "metadata": {},
   "outputs": [],
   "source": [
    "# Format: {node: [parent, [child1, child2, ...]], ...}\n",
    "\n",
    "\n",
    "class Node:\n",
    "    def __init__(self, name: str) -> None:\n",
    "        self.name = name\n",
    "        self.parent = None\n",
    "        self.children = []\n",
    "        self.costs = []\n",
    "        \n",
    "    def __str__(self) -> str:\n",
    "        return self.name\n",
    "        \n",
    "    def __lt__(self, other: \"Node\") -> bool:\n",
    "        return False\n",
    "\n",
    "    def has_parent(self) -> bool:\n",
    "        return self.parent is not None\n",
    "\n",
    "    def set_parent(self, parent: \"Node\") -> None:\n",
    "        self.parent = parent\n",
    "        \n",
    "    def get_parent(self) -> \"Node\":\n",
    "        return self.parent\n",
    "\n",
    "    def add_child(self, child: \"Node\", cost: int) -> None:\n",
    "        if child.has_parent():\n",
    "            raise ValueError(\"Child already has parent\")\n",
    "        child.set_parent(self)\n",
    "        self.children.append(child)\n",
    "        self.costs.append(cost)\n",
    "    \n",
    "    def add_children(self, children: list[\"Node\"], costs: list[int]) -> None:\n",
    "        for child, cost in zip(children, costs):\n",
    "            self.add_child(child, cost)\n",
    "            \n",
    "    def get_children(self) -> list[\"Node\"]:\n",
    "        return self.children\n",
    "    \n",
    "    def get_children_costs(self) -> list[tuple[\"Node\"]]:\n",
    "        return zip(self.children, self.costs)\n",
    "\n",
    "\n",
    "# tree = {\n",
    "#     \"A\": [None, [\"B\", \"C\", \"D\"]],\n",
    "#     \"B\": [\"A\", [\"E\", \"F\"]],\n",
    "#     \"C\": [\"A\", [\"G\", \"H\"]],\n",
    "#     \"D\": [\"A\", [\"I\"]],\n",
    "#     \"E\": [\"B\", []],\n",
    "#     \"F\": [\"B\", [\"J\", \"K\"]],\n",
    "#     \"G\": [\"C\", []],\n",
    "#     \"H\": [\"C\", []],\n",
    "#     \"I\": [\"D\", []],\n",
    "#     \"J\": [\"F\", []],\n",
    "#     \"K\": [\"F\", []],\n",
    "# }\n",
    "\n",
    "tree = Node('A')\n",
    "B = Node(\"B\")\n",
    "C = Node(\"B\")\n",
    "D = Node(\"B\")\n",
    "E = Node(\"E\")\n",
    "F = Node(\"F\")\n",
    "G = Node(\"G\")\n",
    "H = Node(\"H\")\n",
    "I = Node(\"I\")\n",
    "J = Node(\"J\")\n",
    "K = Node(\"K\")\n",
    "tree.add_children([B,C,D], [3,2,1])\n",
    "B.add_children([E,F], [3,1])\n",
    "C.add_children([G,H], [1,5])\n",
    "D.add_children([I], [2])\n",
    "F.add_children([J,K], [4,4])\n",
    "\n",
    "start_node = tree\n",
    "goal_node = K\n"
   ]
  },
  {
   "cell_type": "code",
   "execution_count": 95,
   "metadata": {},
   "outputs": [],
   "source": [
    "def get_parent_stack(node: Node) -> list[Node]:\n",
    "    solution = []\n",
    "    while node.has_parent():\n",
    "        solution.append(node)\n",
    "        node = node.get_parent()\n",
    "    solution.append(node)\n",
    "    return solution[::-1]\n",
    "    \n"
   ]
  },
  {
   "cell_type": "code",
   "execution_count": 96,
   "metadata": {},
   "outputs": [],
   "source": [
    "# depth first\n",
    "\n",
    "\n",
    "def depth_first_search(start: Node, goal: Node) -> list[Node] | None:\n",
    "    stack = [start]\n",
    "\n",
    "    while stack:\n",
    "        current_node = stack.pop()\n",
    "\n",
    "        if current_node == goal:\n",
    "            return get_parent_stack(current_node)\n",
    "        for child in current_node.get_children():\n",
    "            stack.append(child)\n",
    "    return None\n"
   ]
  },
  {
   "cell_type": "code",
   "execution_count": 97,
   "metadata": {},
   "outputs": [],
   "source": [
    "from collections import deque\n",
    "\n",
    "def breadth_first_search(start: Node, goal: Node) -> list[Node] | None:\n",
    "    frontier = deque()\n",
    "    visited = set()\n",
    "\n",
    "    frontier.append(start)\n",
    "\n",
    "    while frontier:\n",
    "        current_node = frontier.popleft()\n",
    "        visited.add(current_node)\n",
    "\n",
    "        if current_node == goal:\n",
    "            return get_parent_stack(current_node)\n",
    "\n",
    "        for child in current_node.get_children():\n",
    "            if child not in visited:\n",
    "                frontier.append(child)\n",
    "    return None"
   ]
  },
  {
   "cell_type": "code",
   "execution_count": 102,
   "metadata": {},
   "outputs": [],
   "source": [
    "import heapq\n",
    "def best_first_search(start: Node, goal: Node) -> list[Node] | None:\n",
    "    priority_queue = []\n",
    "    visited = set()\n",
    "    \n",
    "    heapq.heappush(priority_queue, (0, start))\n",
    "\n",
    "    while priority_queue:\n",
    "        current_cost, current_node = heapq.heappop(priority_queue)\n",
    "        visited.add(current_node)\n",
    "        \n",
    "        \n",
    "        if current_node == goal:\n",
    "            return get_parent_stack(current_node)\n",
    "            \n",
    "        for child, cost in current_node.get_children_costs():\n",
    "            if child in visited:\n",
    "                continue\n",
    "            heapq.heappush(priority_queue, (current_cost + cost, child))\n",
    "    return None"
   ]
  },
  {
   "cell_type": "code",
   "execution_count": 103,
   "metadata": {},
   "outputs": [
    {
     "name": "stdout",
     "output_type": "stream",
     "text": [
      "A, B, F, K\n"
     ]
    }
   ],
   "source": [
    "res = depth_first_search(start_node, goal_node)\n",
    "print(', '.join(str(r) for r in res))"
   ]
  },
  {
   "cell_type": "code",
   "execution_count": 104,
   "metadata": {},
   "outputs": [
    {
     "name": "stdout",
     "output_type": "stream",
     "text": [
      "A, B, F, K\n"
     ]
    }
   ],
   "source": [
    "res = breadth_first_search(start_node, goal_node)\n",
    "print(', '.join(str(r) for r in res))\n"
   ]
  },
  {
   "cell_type": "code",
   "execution_count": 105,
   "metadata": {},
   "outputs": [
    {
     "name": "stdout",
     "output_type": "stream",
     "text": [
      "A, B, F, K\n"
     ]
    }
   ],
   "source": [
    "res = best_first_search(start_node, goal_node)\n",
    "print(', '.join(str(r) for r in res))\n"
   ]
  },
  {
   "cell_type": "code",
   "execution_count": null,
   "metadata": {},
   "outputs": [],
   "source": []
  }
 ],
 "metadata": {
  "kernelspec": {
   "display_name": "Python 3.11.6 ('.venv': poetry)",
   "language": "python",
   "name": "python3"
  },
  "language_info": {
   "codemirror_mode": {
    "name": "ipython",
    "version": 3
   },
   "file_extension": ".py",
   "mimetype": "text/x-python",
   "name": "python",
   "nbconvert_exporter": "python",
   "pygments_lexer": "ipython3",
   "version": "3.11.6"
  },
  "orig_nbformat": 4,
  "vscode": {
   "interpreter": {
    "hash": "81e6f2adef2a5e1d5ced1040cf3fdfb2baa4a7bd70b935b2d6caba7994b1aa88"
   }
  }
 },
 "nbformat": 4,
 "nbformat_minor": 2
}
