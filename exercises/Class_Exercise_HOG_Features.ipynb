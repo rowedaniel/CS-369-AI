{
 "cells": [
  {
   "cell_type": "markdown",
   "metadata": {
    "id": "ZRFU55UCiuMM"
   },
   "source": [
    "# Practice With Feature Extraction\n",
    "\n",
    "In this exercise, you will load the project dataset into colab and extract HOG features (histogram of oriented gradients).\n",
    "\n",
    "First we will just extract and visualize the features for a single image, and then we will average together features from multiple images from each class, to see if there are any patterns in the features across classes.\n",
    "\n",
    "Working in pairs, complete each of the TO DO's listed in the notebook below. If you have time, go back and try the optional variations. If you get stuck, raise your hand and we will come around to help you."
   ]
  },
  {
   "cell_type": "code",
   "execution_count": null,
   "metadata": {
    "id": "FLj2TrQ8Rzom"
   },
   "outputs": [],
   "source": [
    "import numpy as np\n",
    "import matplotlib.pyplot as plt\n",
    "from skimage.feature import hog\n",
    "from random import sample\n",
    "from glob import glob"
   ]
  },
  {
   "cell_type": "markdown",
   "metadata": {
    "id": "7HOGjGUoj58j"
   },
   "source": [
    "# Part 1 -- Extract HOG Features From A Single Image\n",
    "\n",
    "### **TO DO**: Load the Dataset\n",
    "\n",
    "Use the `drive.mount` function to mount your main folder, then use the bash command `!unzip \"Path/to/zip/file.zip\"` to unzip the dataset into your current working directory.\n",
    "\n",
    "(Daniel note: nvm don't do this)"
   ]
  },
  {
   "cell_type": "code",
   "execution_count": null,
   "metadata": {
    "colab": {
     "base_uri": "https://localhost:8080/"
    },
    "id": "4tmkR5t2RW4a",
    "outputId": "0159cb9e-976e-4d03-8bf8-2036363ba122"
   },
   "outputs": [],
   "source": [
    "# If you completed the previous step correctly, this cell should print out\n",
    "# the list of class names from the dataset.\n",
    "\n",
    "# Path to Dataset\n",
    "root_path = '../image_classification/Intel Training Dataset/'\n",
    "\n",
    "# split into subfolders based on class label\n",
    "subfolders = sorted(glob(root_path + '*'))\n",
    "label_names = [p.split('/')[-1] for p in subfolders]\n",
    "print(label_names)\n",
    "image_paths = [sorted(glob(subfolders[i] + \"/*.jpg\")) for i,p in enumerate(subfolders)]"
   ]
  },
  {
   "cell_type": "markdown",
   "metadata": {
    "id": "BVS9r_DHk9VN"
   },
   "source": [
    "### **TO DO**: Load and Visualize One Image\n",
    "\n",
    "Use `plt.imread` and `plt.imshow` to load and visualize the `0th` image in the `0th` subfolder of the dataset.\n",
    "\n",
    "(hint: the `subfolders` variable contains a list of paths to each subfolder in the dataset. You can use the `glob` and `sorted` to get a sorted list of all the filenames in a particular folder.)"
   ]
  },
  {
   "cell_type": "code",
   "execution_count": null,
   "metadata": {
    "id": "kOq-oi--SBnm"
   },
   "outputs": [],
   "source": [
    "image_path = image_paths[0][0]\n",
    "img = plt.imread(image_path)\n",
    "plt.imshow(img)"
   ]
  },
  {
   "cell_type": "markdown",
   "metadata": {
    "id": "11KTMdDJmYvz"
   },
   "source": [
    "### **TO DO**: Extract a HOG feature vector from the image\n",
    "\n",
    "Use the `hog` function (imported above) to generate a HOG feature vector for this image. To start, you can use the following parameters:\n",
    "```\n",
    "orientations = 4\n",
    "pixels_per_cell = (30, 30)\n",
    "cells_per_block = (1, 1)\n",
    "visualize = True\n",
    "channel_axis = -1\n",
    "```\n",
    "NOTE! When visualize = True, the `hog` function returns _two_ arguments!"
   ]
  },
  {
   "cell_type": "code",
   "execution_count": null,
   "metadata": {
    "id": "8DFdMGtlStHh"
   },
   "outputs": [],
   "source": [
    "feature_vector, hog_image = hog(img,\n",
    "                                orientations = 4,\n",
    "                                pixels_per_cell = (10, 10),\n",
    "                                cells_per_block = (1, 1),\n",
    "                                visualize = True,\n",
    "                                channel_axis = -1)\n",
    "\n",
    "fig, (ax1, ax2) = plt.subplots(1, 2, figsize=(8, 4), sharex=True, sharey=True)\n",
    "\n",
    "ax1.axis('off')\n",
    "ax1.imshow(img, cmap=plt.cm.gray)\n",
    "ax1.set_title('Input image')\n",
    "\n",
    "ax2.axis('off')\n",
    "ax2.imshow(hog_image, cmap=plt.cm.gray)\n",
    "ax2.set_title('Histogram of Oriented Gradients')\n",
    "plt.show()"
   ]
  },
  {
   "cell_type": "markdown",
   "metadata": {
    "id": "_gXQ36P6nSIX"
   },
   "source": [
    "### **TO DO**: Examine the HOG features\n",
    "\n",
    "Print out the shape of the feature vector, then use imshow to visualize the original image and the HOG image side-by-side."
   ]
  },
  {
   "cell_type": "markdown",
   "metadata": {
    "id": "jrVr6b-2n0Kz"
   },
   "source": [
    "### _Optional Variation_:\n",
    "\n",
    "Try using different parameters for your HOG feature extraction. For example, increase the number of orientations and decrease the number of pixels per cell.\n",
    "\n",
    "You can add a third sub-plot to your figure above, to see the original and the two HOG image variations side-by-side."
   ]
  },
  {
   "cell_type": "code",
   "execution_count": null,
   "metadata": {
    "id": "4Px8nM2WnqUI"
   },
   "outputs": [],
   "source": [
    "print(feature_vector)"
   ]
  },
  {
   "cell_type": "markdown",
   "metadata": {
    "id": "o7GG96Qvoa54"
   },
   "source": [
    "# Part 2 -- Compare Average HOG features Across Classes\n",
    "\n",
    "### **TO DO**: Average HOG features for 10 randomly selected images per class\n",
    "\n",
    "Looping over the subfolders, use `glob` to get a list of filepaths for all the files. Then use the `sample` function (imported above) to select a random subset from the total number of images in each folder.\n",
    "\n"
   ]
  },
  {
   "cell_type": "markdown",
   "metadata": {
    "id": "iQ98NU0TsJ7w"
   },
   "source": [
    "### _Optional Variation_:\n",
    "\n",
    "Try re-running your visualization with a different random subset. Are the results consistent? How do the results change if you increase the size of the subset (e.g. from 10 to 20)?"
   ]
  },
  {
   "cell_type": "code",
   "execution_count": null,
   "metadata": {
    "id": "ndFMQh41TXYb"
   },
   "outputs": [],
   "source": [
    "all_data = []\n",
    "\n",
    "num_per_class = 10\n",
    "\n",
    "for i in range(len(subfolders)):\n",
    "    random_ixs = sample(range(len(image_paths[i])), num_per_class)\n",
    "    class_data =  np.array([\n",
    "                hog(plt.imread(image_paths[i][j]),\n",
    "                    orientations = 4,\n",
    "                    pixels_per_cell = (10, 10),\n",
    "                    cells_per_block = (1, 1),\n",
    "                    visualize = True,\n",
    "                    channel_axis = -1)[0] \\\n",
    "            for j in random_ixs])\n",
    "    all_data.append(np.sum(class_data,0) / num_per_class)"
   ]
  },
  {
   "cell_type": "code",
   "execution_count": null,
   "metadata": {
    "id": "tYNkYR9yVXJ-"
   },
   "outputs": [],
   "source": [
    "# Visualize average feature vector per class\n",
    "# You need to have created the following variables:\n",
    "# label_names, all_data (where each row of all_data corresponds to the mean\n",
    "# HOG feature for each class)\n",
    "\n",
    "fig, ax = plt.subplots(nrows=2, ncols=len(label_names)//2, figsize=(8,7))\n",
    "for i in range(len(label_names)):\n",
    "  ax[i%2, i//2].plot(all_data[i])\n",
    "  ax[i%2, i//2].set_ylim([0,1])\n",
    "  ax[i%2, i//2].set_title(label_names[i])\n",
    "plt.show()"
   ]
  },
  {
   "cell_type": "code",
   "execution_count": null,
   "metadata": {
    "id": "KkKdt0qsbIkk"
   },
   "outputs": [],
   "source": []
  }
 ],
 "metadata": {
  "colab": {
   "provenance": []
  },
  "kernelspec": {
   "display_name": "Python 3 (ipykernel)",
   "language": "python",
   "name": "python3"
  },
  "language_info": {
   "codemirror_mode": {
    "name": "ipython",
    "version": 3
   },
   "file_extension": ".py",
   "mimetype": "text/x-python",
   "name": "python",
   "nbconvert_exporter": "python",
   "pygments_lexer": "ipython3",
   "version": "3.11.6"
  }
 },
 "nbformat": 4,
 "nbformat_minor": 4
}
