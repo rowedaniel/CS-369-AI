{
 "cells": [
  {
   "cell_type": "markdown",
   "metadata": {
    "id": "Q3BVunxkfMu0"
   },
   "source": [
    "# Practice With K-Means\n",
    "\n",
    "In this exercise we'll use k-means to cluster the pixels in an image, and display the image using only the resulting centroid colors. This process is called _vector quantization_, a method sometimes used for data compression.\n",
    "\n",
    "Here we're not training a model for prediction. Instead, we're trying to group our data points (the pixels in the image) into clusters. Ideally, we might want the clusters to correspond to the different objects in the image (e.g. a cat or the floor), although we probably won't achieve that with just RGB features.\n",
    "\n",
    "Working in pairs, complete each of the TO DO's listed in the notebook below. If you have time, go back and try the optional variations. If you get stuck, raise your hand and we will come around to help you."
   ]
  },
  {
   "cell_type": "code",
   "execution_count": null,
   "metadata": {
    "executionInfo": {
     "elapsed": 181,
     "status": "ok",
     "timestamp": 1706752614867,
     "user": {
      "displayName": "Rachel Brown",
      "userId": "06073861844932952956"
     },
     "user_tz": 480
    },
    "id": "G7IWUrZgUBge"
   },
   "outputs": [],
   "source": [
    "import numpy as np\n",
    "import matplotlib.pyplot as plt\n",
    "import matplotlib.colors as colors\n",
    "from sklearn.cluster import KMeans\n",
    "from PIL import Image"
   ]
  },
  {
   "cell_type": "code",
   "execution_count": null,
   "metadata": {
    "id": "wQkIYgnoUDLq"
   },
   "outputs": [],
   "source": [
    "# Load the image from your local computer\n",
    "img = np.array(Image.open(\"./example_images/Fuzz.jpg\"))"
   ]
  },
  {
   "cell_type": "markdown",
   "metadata": {
    "id": "JB1ncWFSc4TC"
   },
   "source": [
    "### **TO DO**: Normalize pixel values to the range `[0,1]`\n",
    "\n",
    "(hint: first change the data type, then divide by 255 to rescale values)"
   ]
  },
  {
   "cell_type": "code",
   "execution_count": null,
   "metadata": {
    "id": "ELOF8POic3Gp"
   },
   "outputs": [],
   "source": [
    "pixels = img.astype(\"float32\") / 255"
   ]
  },
  {
   "cell_type": "markdown",
   "metadata": {
    "id": "6F0nHLODdtcY"
   },
   "source": [
    "### **TO DO**: Display the image\n",
    "\n",
    "(hint: use the `plt.imshow` function)\n",
    "\n",
    "Also print the image dimensions (i.e. shape)"
   ]
  },
  {
   "cell_type": "code",
   "execution_count": null,
   "metadata": {
    "id": "Y1UWat4JU0kr"
   },
   "outputs": [],
   "source": [
    "fix, ax = plt.subplots(1,1)\n",
    "ax.imshow(pixels)\n",
    "ax.set_title(f\"Image with dimensions: {pixels.shape[1]} x {pixels.shape[0]}\")"
   ]
  },
  {
   "cell_type": "markdown",
   "metadata": {
    "id": "WlNU8cHoeeqO"
   },
   "source": [
    "### **TO DO**: Reshape the image into a feature vector\n",
    "\n",
    "To start we'll use the Red, Green, and Blue values for each pixel as the features.\n",
    "\n",
    "Our resulting data matrix should have the shape `[num_samples, num_features]`, where each row is a sample (i.e. a pixel) and each column is a feature (i.e. a color)."
   ]
  },
  {
   "cell_type": "code",
   "execution_count": null,
   "metadata": {
    "id": "sleA3PcOrDuJ"
   },
   "outputs": [],
   "source": [
    "num_samples = pixels.shape[0] * pixels.shape[1]\n",
    "num_features = pixels.shape[2]\n",
    "feature_matrix = np.reshape(pixels, [num_samples, num_features])"
   ]
  },
  {
   "cell_type": "markdown",
   "metadata": {
    "id": "wf9RtyEynHSa"
   },
   "source": [
    "### _Optional Variation_:\n",
    "\n",
    "Try using a different feature vector to describe the pixels. For example, convert the image to HSV (Hue, Saturation, Value) using the `matplotlib.colors.rgb_to_hsv` function (docs [here](https://matplotlib.org/stable/api/_as_gen/matplotlib.colors.rgb_to_hsv.html)). Does this improve the quality of your clusters?"
   ]
  },
  {
   "cell_type": "code",
   "execution_count": null,
   "metadata": {
    "id": "Ova_tMDHY2rM"
   },
   "outputs": [],
   "source": [
    "feature_matrix = colors.rgb_to_hsv(feature_matrix)"
   ]
  },
  {
   "cell_type": "markdown",
   "metadata": {
    "id": "aDZwC__MjP4o"
   },
   "source": [
    "### **TO DO**: Fit our k-means model to the data\n",
    "\n",
    "When creating your model, specify the number of clusters (`n_clusters=3`), the initialization method (`init='random'`), and the number of times to re-run the k-means algorithm (`n_init=1`).\n",
    "\n",
    "Then call the `.fit()` function using your RGB data. You can get the labels from `.labels_` and the centroids from `.cluster_centers_`.\n",
    "\n",
    "The documentation for the k-means method can be found [here](https://scikit-learn.org/stable/modules/generated/sklearn.cluster.KMeans.html)."
   ]
  },
  {
   "cell_type": "code",
   "execution_count": null,
   "metadata": {
    "id": "fO25Z9vtrE8e"
   },
   "outputs": [],
   "source": [
    "n_clusters = 4\n",
    "model = KMeans(n_clusters=n_clusters, init=\"random\", n_init=1)\n",
    "model.fit(feature_matrix)\n",
    "\n",
    "labels = model.labels_\n",
    "centroids = model.cluster_centers_\n",
    "\n",
    "#labels = np.reshape(model.labels_, [pixels.shape[0], pixels.shape[1]])\n",
    "#fix, ax = plt.subplots(1,1)\n",
    "#ax.imshow(labels)"
   ]
  },
  {
   "cell_type": "markdown",
   "metadata": {
    "id": "fha5-XvZomvt"
   },
   "source": [
    "### _Optional Variation_:\n",
    "\n",
    "Try changing the parameters of your k-means model, e.g. `n_clusters` or `init`. How does the quality of the clusters change?"
   ]
  },
  {
   "cell_type": "code",
   "execution_count": null,
   "metadata": {
    "id": "WADHDAcFlZi5"
   },
   "outputs": [],
   "source": []
  },
  {
   "cell_type": "markdown",
   "metadata": {
    "id": "l9VTMmdDlbGh"
   },
   "source": [
    "### Display the resulting images\n",
    "\n",
    "This code displays the resulting clusters for you, assuming you have already created the following variables:\n",
    "\n",
    "`img`, `n_clusters`, `labels`, `centroids`\n",
    "\n",
    "The left image shows a colorized version of the clusters, and the right image replaces each pixel with the value of its closest centroid."
   ]
  },
  {
   "cell_type": "code",
   "execution_count": null,
   "metadata": {
    "id": "cu10D-gemWh0"
   },
   "outputs": [],
   "source": [
    "# Pick the colors for the colorized image\n",
    "cmap = plt.cm.plasma\n",
    "centroid_colors = np.array([cmap(i)[:3] for i in np.linspace(0, 1, n_clusters)])\n",
    "\n",
    "# Create arrays shaped the same as the original image, but with new colors\n",
    "# corresponding to the labels from our k-means model\n",
    "img_clusters = np.array([centroids[i] for i in labels]).reshape(img.shape)\n",
    "img_cluster_labels = np.array([centroid_colors[i] for i in labels]).reshape(img.shape)"
   ]
  },
  {
   "cell_type": "code",
   "execution_count": null,
   "metadata": {
    "id": "E2Smn_E1uhVF"
   },
   "outputs": [],
   "source": [
    "# Convert back from HSV to RGB if needed!\n",
    "img_clusters = colors.hsv_to_rgb(img_clusters)\n",
    "\n",
    "# Display the images side by side\n",
    "fig, ax = plt.subplots(nrows=1, ncols=2, figsize=(6,3))\n",
    "ax[0].imshow(img_cluster_labels)\n",
    "ax[0].axis('off')\n",
    "ax[1].imshow(img_clusters)\n",
    "ax[1].axis('off')\n",
    "plt.show()"
   ]
  },
  {
   "cell_type": "code",
   "execution_count": null,
   "metadata": {},
   "outputs": [],
   "source": []
  }
 ],
 "metadata": {
  "colab": {
   "authorship_tag": "ABX9TyP/AEcHPEqrFtMksvzdcoZ0",
   "provenance": []
  },
  "kernelspec": {
   "display_name": "Python 3 (ipykernel)",
   "language": "python",
   "name": "python3"
  },
  "language_info": {
   "codemirror_mode": {
    "name": "ipython",
    "version": 3
   },
   "file_extension": ".py",
   "mimetype": "text/x-python",
   "name": "python",
   "nbconvert_exporter": "python",
   "pygments_lexer": "ipython3",
   "version": "3.11.6"
  }
 },
 "nbformat": 4,
 "nbformat_minor": 4
}
